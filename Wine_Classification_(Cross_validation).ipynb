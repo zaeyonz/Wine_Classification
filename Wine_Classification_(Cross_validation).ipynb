{
  "nbformat": 4,
  "nbformat_minor": 0,
  "metadata": {
    "colab": {
      "provenance": [],
      "authorship_tag": "ABX9TyO16abnqitBdFBBdtCzKmU7",
      "include_colab_link": true
    },
    "kernelspec": {
      "name": "python3",
      "display_name": "Python 3"
    },
    "language_info": {
      "name": "python"
    }
  },
  "cells": [
    {
      "cell_type": "markdown",
      "metadata": {
        "id": "view-in-github",
        "colab_type": "text"
      },
      "source": [
        "<a href=\"https://colab.research.google.com/github/zaeyonz/Wine_Classification/blob/main/Wine_Classification_(Cross_validation).ipynb\" target=\"_parent\"><img src=\"https://colab.research.google.com/assets/colab-badge.svg\" alt=\"Open In Colab\"/></a>"
      ]
    },
    {
      "cell_type": "markdown",
      "source": [
        "# ***Validation Set***\n",
        "*   train set를 test set이외에 또 나눔 (20%~30%정도)\n",
        "*   test set를 사용하지 않고 과대,과소적합인지를 측정하는 가장 간단한 방법\n"
      ],
      "metadata": {
        "id": "rcUTpt8lVthS"
      }
    },
    {
      "cell_type": "code",
      "execution_count": 3,
      "metadata": {
        "id": "TedmuXoNKA4y"
      },
      "outputs": [],
      "source": [
        "import pandas as pd\n",
        "wine = pd.read_csv('http://bit.ly/wine_csv_data')\n",
        "\n",
        "data = wine[['alcohol', 'sugar', 'pH']].to_numpy()     # class 열을 타깃으로 사용, 나머지 열은 특성 배열에 저장\n",
        "target = wine['class'].to_numpy()"
      ]
    },
    {
      "cell_type": "code",
      "source": [
        "# train set & test set를 나눔\n",
        "from sklearn.model_selection import train_test_split\n",
        "\n",
        "train_input, test_input, train_target, test_target = train_test_split(data, target, test_size = 0.2, random_state=42)"
      ],
      "metadata": {
        "id": "b1t5G8d6Wqqx"
      },
      "execution_count": 4,
      "outputs": []
    },
    {
      "cell_type": "code",
      "source": [
        "# train_input과 train_target을 다시 훈련 세트 sub_input, sub_target과 val_input, val_target으로 나눔\n",
        "\n",
        "sub_input, val_input, sub_target, val_target = train_test_split(train_input, train_target, test_size = 0.2, random_state=42)"
      ],
      "metadata": {
        "id": "SX7Luzi3XeSa"
      },
      "execution_count": 5,
      "outputs": []
    },
    {
      "cell_type": "code",
      "source": [
        "# train set와 validation set 의 크기 확인\n",
        "\n",
        "print(sub_input.shape, val_input.shape)"
      ],
      "metadata": {
        "colab": {
          "base_uri": "https://localhost:8080/"
        },
        "id": "nXmHliw6ZOFU",
        "outputId": "9c78cfec-f0ce-47e6-e861-83ce89e933f9"
      },
      "execution_count": 7,
      "outputs": [
        {
          "output_type": "stream",
          "name": "stdout",
          "text": [
            "(4157, 3) (1040, 3)\n"
          ]
        }
      ]
    },
    {
      "cell_type": "markdown",
      "source": [
        "*   ***원래 5197개였던 train set가 4157개로 줄고, validation set는 1040개가 되었음***"
      ],
      "metadata": {
        "id": "623vjzMlZgVE"
      }
    },
    {
      "cell_type": "markdown",
      "source": [
        "# ***Model Training***\n",
        "*   sub_input, sub_target, val_input, val_target을 사용해 model을 만들고 평가"
      ],
      "metadata": {
        "id": "reM_4mnHZumT"
      }
    },
    {
      "cell_type": "code",
      "source": [
        "from sklearn.tree import DecisionTreeClassifier\n",
        "dt = DecisionTreeClassifier(random_state=42)\n",
        "dt.fit(sub_input, sub_target)\n",
        "print(dt.score(sub_input, sub_target))\n",
        "print(dt.score(val_input, val_target))"
      ],
      "metadata": {
        "colab": {
          "base_uri": "https://localhost:8080/"
        },
        "id": "VH7onKOEZdIr",
        "outputId": "6a3e20cb-8186-4035-c822-680f76169d54"
      },
      "execution_count": 8,
      "outputs": [
        {
          "output_type": "stream",
          "name": "stdout",
          "text": [
            "0.9971133028626413\n",
            "0.864423076923077\n"
          ]
        }
      ]
    },
    {
      "cell_type": "markdown",
      "source": [
        "*   ***확실히 train set에 과대적합되어 있음***\n",
        "*   매개변수를 바꿔가며 더 좋은 모델을 찾아야함"
      ],
      "metadata": {
        "id": "IlpeRsXsaVzX"
      }
    },
    {
      "cell_type": "markdown",
      "source": [
        "# ***Cross Validation (교차 검증)***\n",
        "*   교차 검증을 이용하면 안정적인 검증 점수를 얻고 훈련에 더 많은 데이터를 사용할 수 있음\n",
        "*   검증 세트를 떼어 내어 평가하는 과정을 여러번 반복함\n",
        "*   보통 5-폴드, 10-폴드 교차 검증을 많이 사용함 --> 이렇게 하면 데이터의 80 ~ 90%까지 훈련에 사용 가능\n",
        "*   ***scikit-learn에는 cross_validation()이라는 교차 검증 함수가 있음***"
      ],
      "metadata": {
        "id": "Q0wZsLk_ahwd"
      }
    },
    {
      "cell_type": "code",
      "source": [
        "from sklearn.model_selection import cross_validate\n",
        "\n",
        "scores = cross_validate(dt, train_input, train_target)\n",
        "print(scores)"
      ],
      "metadata": {
        "colab": {
          "base_uri": "https://localhost:8080/"
        },
        "id": "bE9XHw68aU9X",
        "outputId": "44935e7e-ebf0-4968-b7bf-4e57fa58d094"
      },
      "execution_count": 10,
      "outputs": [
        {
          "output_type": "stream",
          "name": "stdout",
          "text": [
            "{'fit_time': array([0.03412437, 0.02872252, 0.02057195, 0.01842117, 0.01073933]), 'score_time': array([0.01207399, 0.00184107, 0.01521111, 0.00907183, 0.00158525]), 'test_score': array([0.86923077, 0.84615385, 0.87680462, 0.84889317, 0.83541867])}\n"
          ]
        }
      ]
    },
    {
      "cell_type": "markdown",
      "source": [
        "*   fit_time: 각각의 모델을 훈련하는 시간\n",
        "*   score_time: 모델을 검증 하는 시간\n",
        "*   test_score: 점수"
      ],
      "metadata": {
        "id": "Cw5F_3Qrbg1G"
      }
    },
    {
      "cell_type": "code",
      "source": [
        "# 교차 검증의 최종 점수는 test_score키에 담긴 5개릐 점수를 평균하여 얻음\n",
        "\n",
        "import numpy as np\n",
        "\n",
        "print(np.mean(scores['test_score']))"
      ],
      "metadata": {
        "colab": {
          "base_uri": "https://localhost:8080/"
        },
        "id": "79R2CzlmbeWW",
        "outputId": "b030002a-1e8d-449a-b60b-26edd33a9f4f"
      },
      "execution_count": 12,
      "outputs": [
        {
          "output_type": "stream",
          "name": "stdout",
          "text": [
            "0.855300214703487\n"
          ]
        }
      ]
    },
    {
      "cell_type": "markdown",
      "source": [
        "*   ***cross_validate()는 train_set를 섞어 폴드를 나누지 않음!!***\n",
        "*   앞서 train_test_split() 함수로 자동으로 전체 데이터를 섞은 후 데이터를 나눴기에 따로 섞을 필요는 없음\n",
        "*   하지만 만약 교차 검증을 할 때 train set를 섞으려면 ***분할기(splitter)***를 지정해야함\n",
        "---\n",
        "\n",
        "*   cross_validate() 함수는 기본적으로 회귀 모델의 경우 KFold 분할기를 사용함\n",
        "*   분류 모델일 경우 타깃 클래스를 골고루 나누기 위해 StratifiedKFold를 사용함"
      ],
      "metadata": {
        "id": "r53MCbhicC5X"
      }
    },
    {
      "cell_type": "code",
      "source": [
        "# 앞서 수행한 교차 검증은 아래와 동일함!!\n",
        "\n",
        "from sklearn.model_selection import StratifiedKFold\n",
        "scores = cross_validate(dt, train_input, train_target, cv=StratifiedKFold())\n",
        "print(np.mean(scores['test_score']))"
      ],
      "metadata": {
        "colab": {
          "base_uri": "https://localhost:8080/"
        },
        "id": "iFBfunJYb-03",
        "outputId": "18edb2f3-5d47-458f-940f-85c95c9706d9"
      },
      "execution_count": 13,
      "outputs": [
        {
          "output_type": "stream",
          "name": "stdout",
          "text": [
            "0.855300214703487\n"
          ]
        }
      ]
    },
    {
      "cell_type": "code",
      "source": [
        "# 만약 train set를 섞은 후 10-폴드 교차 검증을 수행하려면..\n",
        "\n",
        "splitter = StratifiedKFold(n_splits=10, shuffle=True, random_state=42)      # n_splits 매개변수는 몇(k) 폴드 교차 검증을 할지 정함\n",
        "scores = cross_validate(dt, train_input, train_target, cv=splitter)\n",
        "print(np.mean(scores['test_score']))"
      ],
      "metadata": {
        "colab": {
          "base_uri": "https://localhost:8080/"
        },
        "id": "mnGu1B43dXpv",
        "outputId": "7ed35259-f238-4d53-de8b-b9923e5ac796"
      },
      "execution_count": 14,
      "outputs": [
        {
          "output_type": "stream",
          "name": "stdout",
          "text": [
            "0.8574181117533719\n"
          ]
        }
      ]
    },
    {
      "cell_type": "markdown",
      "source": [
        "# ***하이퍼파라미터 튜닝***\n",
        "*   머신러닝 모델이 학습하는 파라미터를 모델 파라미터라고 부름\n",
        "*   반면, ***모델이 학습할 수 없어서 사용자가 지정해야만 하는 파라미터를 하이퍼파라미터라고 함***\n",
        "*   먼저 라이브러리가 제공하는 기본값을 그대로 사용 후, 매개변수를 바꿔가며 모델을 훈련, 교차 검증 함\n",
        "---\n",
        "*   한 매개변수의 최적값을 찾고 다른 매개변수의 최적값을 찾으면 안됨!\n",
        "*   ***여러 매개변수를 동시에 바꿔가며 최적의 값을 찾아야함!!***"
      ],
      "metadata": {
        "id": "psNtqEXueDSx"
      }
    },
    {
      "cell_type": "markdown",
      "source": [
        "# ***Grid Search (그리드 서치)***\n",
        "*   많은 매개변수들을 한번에 최적의 값을 찾아주는 클래스\n",
        "*   ***하이퍼파라미터 탐색과 교차 검증을 한 번에 수행함!!***\n",
        "*   scikit-learn의 ***GridSearchCV()***"
      ],
      "metadata": {
        "id": "zVqyt0_VfFce"
      }
    },
    {
      "cell_type": "code",
      "source": [
        "from sklearn.model_selection import GridSearchCV\n",
        "\n",
        "params = {'min_impurity_decrease': [0.001, 0.002, 0.003, 0.004, 0.005]}         # 탐색할 매개변수와 탐색할 값의 리스트를 딕셔너리로 만듦\n",
        "\n",
        "gs = GridSearchCV(DecisionTreeClassifier(random_state=42), params,n_jobs=-1)"
      ],
      "metadata": {
        "id": "kODgpHBreDJR"
      },
      "execution_count": 15,
      "outputs": []
    },
    {
      "cell_type": "code",
      "source": [],
      "metadata": {
        "id": "I5Ts4ie7d_nK"
      },
      "execution_count": null,
      "outputs": []
    }
  ]
}